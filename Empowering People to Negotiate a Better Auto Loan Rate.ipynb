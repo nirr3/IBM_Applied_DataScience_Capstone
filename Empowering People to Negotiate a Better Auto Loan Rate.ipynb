{
 "cells": [
  {
   "cell_type": "markdown",
   "metadata": {},
   "source": [
    "# Empowering People to Negotiate a Better Auto Loan Rate\n",
    "\n",
    "\n",
    "\n",
    "## The Problem\n",
    "\n",
    "A major concern for lenders is being left out of the conversation when a potential borrower talks to an autodealer. The problem is knowing when a person is actually at a car dealership.\n",
    "\n",
    "\n",
    "In many cases the car-dealers are offering the person who is buying a loan a loan and many insurance policies that are significantly marked-up. By enabling financial instutitions to understand when someone is at a car dealership, they are able to help reduce the borrowers total cost of ownership a lot and gives them a better negotiating position with the dealer.\n",
    "\n",
    "\n",
    "## The data\n",
    "\n",
    "\n",
    "As a prototype, Foursquare location data will be used for the Chicago area. Using this information with some coordinate data, we will calculate the distance from the dealership and create a flag whether or not we believe this individual is at a car dealership.\n",
    "\n"
   ]
  }
 ],
 "metadata": {
  "kernelspec": {
   "display_name": "Python 3",
   "language": "python",
   "name": "python3"
  },
  "language_info": {
   "codemirror_mode": {
    "name": "ipython",
    "version": 3
   },
   "file_extension": ".py",
   "mimetype": "text/x-python",
   "name": "python",
   "nbconvert_exporter": "python",
   "pygments_lexer": "ipython3",
   "version": "3.7.1"
  }
 },
 "nbformat": 4,
 "nbformat_minor": 2
}
